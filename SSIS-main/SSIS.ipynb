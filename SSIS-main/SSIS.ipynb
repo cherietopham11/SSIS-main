{
 "metadata": {
  "language_info": {
   "codemirror_mode": {
    "name": "ipython",
    "version": 3
   },
   "file_extension": ".py",
   "mimetype": "text/x-python",
   "name": "python",
   "nbconvert_exporter": "python",
   "pygments_lexer": "ipython3",
   "version": "3.9.5"
  },
  "orig_nbformat": 2,
  "kernelspec": {
   "name": "python395jvsc74a57bd0102c11840fb3598449482d37449f0f86a06b1ef4aa9415d5f10468bce4d14f36",
   "display_name": "Python 3.9.5 64-bit (windows store)"
  },
  "metadata": {
   "interpreter": {
    "hash": "102c11840fb3598449482d37449f0f86a06b1ef4aa9415d5f10468bce4d14f36"
   }
  }
 },
 "nbformat": 4,
 "nbformat_minor": 2,
 "cells": [
  {
   "cell_type": "code",
   "execution_count": 46,
   "metadata": {},
   "outputs": [],
   "source": [
    "import pyodbc\n",
    "import time\n",
    "import numpy as pd\n",
    "import pandas as pd"
   ]
  },
  {
   "cell_type": "code",
   "execution_count": 47,
   "metadata": {},
   "outputs": [],
   "source": [
    "cnxn = pyodbc.connect('DRIVER={ODBC Driver 17 for SQL Server};SERVER=DESKTOP-GRJ2O6R;DATABASE=AdventureWorksDW2019;Trusted_Connection=Yes;')"
   ]
  },
  {
   "cell_type": "code",
   "execution_count": 48,
   "metadata": {},
   "outputs": [
    {
     "output_type": "execute_result",
     "data": {
      "text/plain": [
       "   CurrencyKey  OrderQuantity  SalesAmount    TaxAmt  TotalProductCost  \\\n",
       "0          100              1     699.0982   55.9279          413.1463   \n",
       "1          100              1    3578.2700  286.2616         2171.2942   \n",
       "2          100              1    3578.2700  286.2616         2171.2942   \n",
       "3          100              1    3578.2700  286.2616         2171.2942   \n",
       "4          100              1    3578.2700  286.2616         2171.2942   \n",
       "\n",
       "    FirstName MiddleName  LastName  EnglishProductName  ProductKey  \\\n",
       "0       Ruben       None    Prasad  Road-650 Black, 62         336   \n",
       "1       Colin          G     Anand    Road-150 Red, 44         311   \n",
       "2       Kevin       None  Gonzalez    Road-150 Red, 44         311   \n",
       "3    Jeremiah          D  Martinez    Road-150 Red, 62         310   \n",
       "4  Alexandria          W    Hughes    Road-150 Red, 52         313   \n",
       "\n",
       "            City StateProvinceName  GeographyKey  CustomerKey  \n",
       "0  Beverly Hills        California           300        14501  \n",
       "1       Coronado        California           312        27645  \n",
       "2       Kirkland        Washington           623        27668  \n",
       "3        Ballard        Washington           607        27671  \n",
       "4    Lake Oswego            Oregon           542        27625  "
      ],
      "text/html": "<div>\n<style scoped>\n    .dataframe tbody tr th:only-of-type {\n        vertical-align: middle;\n    }\n\n    .dataframe tbody tr th {\n        vertical-align: top;\n    }\n\n    .dataframe thead th {\n        text-align: right;\n    }\n</style>\n<table border=\"1\" class=\"dataframe\">\n  <thead>\n    <tr style=\"text-align: right;\">\n      <th></th>\n      <th>CurrencyKey</th>\n      <th>OrderQuantity</th>\n      <th>SalesAmount</th>\n      <th>TaxAmt</th>\n      <th>TotalProductCost</th>\n      <th>FirstName</th>\n      <th>MiddleName</th>\n      <th>LastName</th>\n      <th>EnglishProductName</th>\n      <th>ProductKey</th>\n      <th>City</th>\n      <th>StateProvinceName</th>\n      <th>GeographyKey</th>\n      <th>CustomerKey</th>\n    </tr>\n  </thead>\n  <tbody>\n    <tr>\n      <th>0</th>\n      <td>100</td>\n      <td>1</td>\n      <td>699.0982</td>\n      <td>55.9279</td>\n      <td>413.1463</td>\n      <td>Ruben</td>\n      <td>None</td>\n      <td>Prasad</td>\n      <td>Road-650 Black, 62</td>\n      <td>336</td>\n      <td>Beverly Hills</td>\n      <td>California</td>\n      <td>300</td>\n      <td>14501</td>\n    </tr>\n    <tr>\n      <th>1</th>\n      <td>100</td>\n      <td>1</td>\n      <td>3578.2700</td>\n      <td>286.2616</td>\n      <td>2171.2942</td>\n      <td>Colin</td>\n      <td>G</td>\n      <td>Anand</td>\n      <td>Road-150 Red, 44</td>\n      <td>311</td>\n      <td>Coronado</td>\n      <td>California</td>\n      <td>312</td>\n      <td>27645</td>\n    </tr>\n    <tr>\n      <th>2</th>\n      <td>100</td>\n      <td>1</td>\n      <td>3578.2700</td>\n      <td>286.2616</td>\n      <td>2171.2942</td>\n      <td>Kevin</td>\n      <td>None</td>\n      <td>Gonzalez</td>\n      <td>Road-150 Red, 44</td>\n      <td>311</td>\n      <td>Kirkland</td>\n      <td>Washington</td>\n      <td>623</td>\n      <td>27668</td>\n    </tr>\n    <tr>\n      <th>3</th>\n      <td>100</td>\n      <td>1</td>\n      <td>3578.2700</td>\n      <td>286.2616</td>\n      <td>2171.2942</td>\n      <td>Jeremiah</td>\n      <td>D</td>\n      <td>Martinez</td>\n      <td>Road-150 Red, 62</td>\n      <td>310</td>\n      <td>Ballard</td>\n      <td>Washington</td>\n      <td>607</td>\n      <td>27671</td>\n    </tr>\n    <tr>\n      <th>4</th>\n      <td>100</td>\n      <td>1</td>\n      <td>3578.2700</td>\n      <td>286.2616</td>\n      <td>2171.2942</td>\n      <td>Alexandria</td>\n      <td>W</td>\n      <td>Hughes</td>\n      <td>Road-150 Red, 52</td>\n      <td>313</td>\n      <td>Lake Oswego</td>\n      <td>Oregon</td>\n      <td>542</td>\n      <td>27625</td>\n    </tr>\n  </tbody>\n</table>\n</div>"
     },
     "metadata": {},
     "execution_count": 48
    }
   ],
   "source": [
    "df = pd.read_sql(\"SELECT * FROM Report_InternetSales\", cnxn)\n",
    "df.head()"
   ]
  },
  {
   "cell_type": "code",
   "execution_count": 49,
   "metadata": {},
   "outputs": [
    {
     "output_type": "stream",
     "name": "stdout",
     "text": [
      "(310, 20101229, 20110110, 20110105, 21768, 1, 19, 6, 'SO43697', 1, 1, 1, Decimal('3578.2700'), Decimal('3578.2700'), 0.0, 0.0, Decimal('2171.2942'), Decimal('2171.2942'), Decimal('3578.2700'), Decimal('286.2616'), Decimal('89.4568'), None, None, datetime.datetime(2010, 12, 29, 0, 0), datetime.datetime(2011, 1, 10, 0, 0), datetime.datetime(2011, 1, 5, 0, 0))\n"
     ]
    }
   ],
   "source": [
    "cursor = cnxn.cursor()\n",
    "cursor.execute(\"SELECT TOP 10 * FROM FactInternetSales\")\n",
    "row = cursor.fetchall()\n",
    "while row:\n",
    "    print(row[0])\n",
    "    row = cursor.fetchall()"
   ]
  },
  {
   "cell_type": "code",
   "execution_count": 50,
   "metadata": {},
   "outputs": [
    {
     "output_type": "stream",
     "name": "stdout",
     "text": [
      "[{'ProductKey': 310, 'OrderDateKey': 20101229, 'DueDateKey': 20110110, 'ShipDateKey': 20110105, 'CustomerKey': 21768, 'PromotionKey': 1, 'CurrencyKey': 19, 'SalesTerritoryKey': 6, 'SalesOrderNumber': 'SO43697', 'SalesOrderLineNumber': 1, 'RevisionNumber': 1, 'OrderQuantity': 1, 'UnitPrice': Decimal('3578.2700'), 'ExtendedAmount': Decimal('3578.2700'), 'UnitPriceDiscountPct': 0.0, 'DiscountAmount': 0.0, 'ProductStandardCost': Decimal('2171.2942'), 'TotalProductCost': Decimal('2171.2942'), 'SalesAmount': Decimal('3578.2700'), 'TaxAmt': Decimal('286.2616'), 'Freight': Decimal('89.4568'), 'CarrierTrackingNumber': None, 'CustomerPONumber': None, 'OrderDate': datetime.datetime(2010, 12, 29, 0, 0), 'DueDate': datetime.datetime(2011, 1, 10, 0, 0), 'ShipDate': datetime.datetime(2011, 1, 5, 0, 0)}, {'ProductKey': 346, 'OrderDateKey': 20101229, 'DueDateKey': 20110110, 'ShipDateKey': 20110105, 'CustomerKey': 28389, 'PromotionKey': 1, 'CurrencyKey': 39, 'SalesTerritoryKey': 7, 'SalesOrderNumber': 'SO43698', 'SalesOrderLineNumber': 1, 'RevisionNumber': 1, 'OrderQuantity': 1, 'UnitPrice': Decimal('3399.9900'), 'ExtendedAmount': Decimal('3399.9900'), 'UnitPriceDiscountPct': 0.0, 'DiscountAmount': 0.0, 'ProductStandardCost': Decimal('1912.1544'), 'TotalProductCost': Decimal('1912.1544'), 'SalesAmount': Decimal('3399.9900'), 'TaxAmt': Decimal('271.9992'), 'Freight': Decimal('84.9998'), 'CarrierTrackingNumber': None, 'CustomerPONumber': None, 'OrderDate': datetime.datetime(2010, 12, 29, 0, 0), 'DueDate': datetime.datetime(2011, 1, 10, 0, 0), 'ShipDate': datetime.datetime(2011, 1, 5, 0, 0)}, {'ProductKey': 346, 'OrderDateKey': 20101229, 'DueDateKey': 20110110, 'ShipDateKey': 20110105, 'CustomerKey': 25863, 'PromotionKey': 1, 'CurrencyKey': 100, 'SalesTerritoryKey': 1, 'SalesOrderNumber': 'SO43699', 'SalesOrderLineNumber': 1, 'RevisionNumber': 1, 'OrderQuantity': 1, 'UnitPrice': Decimal('3399.9900'), 'ExtendedAmount': Decimal('3399.9900'), 'UnitPriceDiscountPct': 0.0, 'DiscountAmount': 0.0, 'ProductStandardCost': Decimal('1912.1544'), 'TotalProductCost': Decimal('1912.1544'), 'SalesAmount': Decimal('3399.9900'), 'TaxAmt': Decimal('271.9992'), 'Freight': Decimal('84.9998'), 'CarrierTrackingNumber': None, 'CustomerPONumber': None, 'OrderDate': datetime.datetime(2010, 12, 29, 0, 0), 'DueDate': datetime.datetime(2011, 1, 10, 0, 0), 'ShipDate': datetime.datetime(2011, 1, 5, 0, 0)}, {'ProductKey': 336, 'OrderDateKey': 20101229, 'DueDateKey': 20110110, 'ShipDateKey': 20110105, 'CustomerKey': 14501, 'PromotionKey': 1, 'CurrencyKey': 100, 'SalesTerritoryKey': 4, 'SalesOrderNumber': 'SO43700', 'SalesOrderLineNumber': 1, 'RevisionNumber': 1, 'OrderQuantity': 1, 'UnitPrice': Decimal('699.0982'), 'ExtendedAmount': Decimal('699.0982'), 'UnitPriceDiscountPct': 0.0, 'DiscountAmount': 0.0, 'ProductStandardCost': Decimal('413.1463'), 'TotalProductCost': Decimal('413.1463'), 'SalesAmount': Decimal('699.0982'), 'TaxAmt': Decimal('55.9279'), 'Freight': Decimal('17.4775'), 'CarrierTrackingNumber': None, 'CustomerPONumber': None, 'OrderDate': datetime.datetime(2010, 12, 29, 0, 0), 'DueDate': datetime.datetime(2011, 1, 10, 0, 0), 'ShipDate': datetime.datetime(2011, 1, 5, 0, 0)}, {'ProductKey': 346, 'OrderDateKey': 20101229, 'DueDateKey': 20110110, 'ShipDateKey': 20110105, 'CustomerKey': 11003, 'PromotionKey': 1, 'CurrencyKey': 6, 'SalesTerritoryKey': 9, 'SalesOrderNumber': 'SO43701', 'SalesOrderLineNumber': 1, 'RevisionNumber': 1, 'OrderQuantity': 1, 'UnitPrice': Decimal('3399.9900'), 'ExtendedAmount': Decimal('3399.9900'), 'UnitPriceDiscountPct': 0.0, 'DiscountAmount': 0.0, 'ProductStandardCost': Decimal('1912.1544'), 'TotalProductCost': Decimal('1912.1544'), 'SalesAmount': Decimal('3399.9900'), 'TaxAmt': Decimal('271.9992'), 'Freight': Decimal('84.9998'), 'CarrierTrackingNumber': None, 'CustomerPONumber': None, 'OrderDate': datetime.datetime(2010, 12, 29, 0, 0), 'DueDate': datetime.datetime(2011, 1, 10, 0, 0), 'ShipDate': datetime.datetime(2011, 1, 5, 0, 0)}, {'ProductKey': 311, 'OrderDateKey': 20101230, 'DueDateKey': 20110111, 'ShipDateKey': 20110106, 'CustomerKey': 27645, 'PromotionKey': 1, 'CurrencyKey': 100, 'SalesTerritoryKey': 4, 'SalesOrderNumber': 'SO43702', 'SalesOrderLineNumber': 1, 'RevisionNumber': 1, 'OrderQuantity': 1, 'UnitPrice': Decimal('3578.2700'), 'ExtendedAmount': Decimal('3578.2700'), 'UnitPriceDiscountPct': 0.0, 'DiscountAmount': 0.0, 'ProductStandardCost': Decimal('2171.2942'), 'TotalProductCost': Decimal('2171.2942'), 'SalesAmount': Decimal('3578.2700'), 'TaxAmt': Decimal('286.2616'), 'Freight': Decimal('89.4568'), 'CarrierTrackingNumber': None, 'CustomerPONumber': None, 'OrderDate': datetime.datetime(2010, 12, 30, 0, 0), 'DueDate': datetime.datetime(2011, 1, 11, 0, 0), 'ShipDate': datetime.datetime(2011, 1, 6, 0, 0)}, {'ProductKey': 310, 'OrderDateKey': 20101230, 'DueDateKey': 20110111, 'ShipDateKey': 20110106, 'CustomerKey': 16624, 'PromotionKey': 1, 'CurrencyKey': 6, 'SalesTerritoryKey': 9, 'SalesOrderNumber': 'SO43703', 'SalesOrderLineNumber': 1, 'RevisionNumber': 1, 'OrderQuantity': 1, 'UnitPrice': Decimal('3578.2700'), 'ExtendedAmount': Decimal('3578.2700'), 'UnitPriceDiscountPct': 0.0, 'DiscountAmount': 0.0, 'ProductStandardCost': Decimal('2171.2942'), 'TotalProductCost': Decimal('2171.2942'), 'SalesAmount': Decimal('3578.2700'), 'TaxAmt': Decimal('286.2616'), 'Freight': Decimal('89.4568'), 'CarrierTrackingNumber': None, 'CustomerPONumber': None, 'OrderDate': datetime.datetime(2010, 12, 30, 0, 0), 'DueDate': datetime.datetime(2011, 1, 11, 0, 0), 'ShipDate': datetime.datetime(2011, 1, 6, 0, 0)}, {'ProductKey': 351, 'OrderDateKey': 20101230, 'DueDateKey': 20110111, 'ShipDateKey': 20110106, 'CustomerKey': 11005, 'PromotionKey': 1, 'CurrencyKey': 6, 'SalesTerritoryKey': 9, 'SalesOrderNumber': 'SO43704', 'SalesOrderLineNumber': 1, 'RevisionNumber': 1, 'OrderQuantity': 1, 'UnitPrice': Decimal('3374.9900'), 'ExtendedAmount': Decimal('3374.9900'), 'UnitPriceDiscountPct': 0.0, 'DiscountAmount': 0.0, 'ProductStandardCost': Decimal('1898.0944'), 'TotalProductCost': Decimal('1898.0944'), 'SalesAmount': Decimal('3374.9900'), 'TaxAmt': Decimal('269.9992'), 'Freight': Decimal('84.3748'), 'CarrierTrackingNumber': None, 'CustomerPONumber': None, 'OrderDate': datetime.datetime(2010, 12, 30, 0, 0), 'DueDate': datetime.datetime(2011, 1, 11, 0, 0), 'ShipDate': datetime.datetime(2011, 1, 6, 0, 0)}, {'ProductKey': 344, 'OrderDateKey': 20101230, 'DueDateKey': 20110111, 'ShipDateKey': 20110106, 'CustomerKey': 11011, 'PromotionKey': 1, 'CurrencyKey': 6, 'SalesTerritoryKey': 9, 'SalesOrderNumber': 'SO43705', 'SalesOrderLineNumber': 1, 'RevisionNumber': 1, 'OrderQuantity': 1, 'UnitPrice': Decimal('3399.9900'), 'ExtendedAmount': Decimal('3399.9900'), 'UnitPriceDiscountPct': 0.0, 'DiscountAmount': 0.0, 'ProductStandardCost': Decimal('1912.1544'), 'TotalProductCost': Decimal('1912.1544'), 'SalesAmount': Decimal('3399.9900'), 'TaxAmt': Decimal('271.9992'), 'Freight': Decimal('84.9998'), 'CarrierTrackingNumber': None, 'CustomerPONumber': None, 'OrderDate': datetime.datetime(2010, 12, 30, 0, 0), 'DueDate': datetime.datetime(2011, 1, 11, 0, 0), 'ShipDate': datetime.datetime(2011, 1, 6, 0, 0)}, {'ProductKey': 312, 'OrderDateKey': 20101231, 'DueDateKey': 20110112, 'ShipDateKey': 20110107, 'CustomerKey': 27621, 'PromotionKey': 1, 'CurrencyKey': 100, 'SalesTerritoryKey': 4, 'SalesOrderNumber': 'SO43706', 'SalesOrderLineNumber': 1, 'RevisionNumber': 1, 'OrderQuantity': 1, 'UnitPrice': Decimal('3578.2700'), 'ExtendedAmount': Decimal('3578.2700'), 'UnitPriceDiscountPct': 0.0, 'DiscountAmount': 0.0, 'ProductStandardCost': Decimal('2171.2942'), 'TotalProductCost': Decimal('2171.2942'), 'SalesAmount': Decimal('3578.2700'), 'TaxAmt': Decimal('286.2616'), 'Freight': Decimal('89.4568'), 'CarrierTrackingNumber': None, 'CustomerPONumber': None, 'OrderDate': datetime.datetime(2010, 12, 31, 0, 0), 'DueDate': datetime.datetime(2011, 1, 12, 0, 0), 'ShipDate': datetime.datetime(2011, 1, 7, 0, 0)}]\n"
     ]
    }
   ],
   "source": [
    "cursor = cnxn.cursor()\n",
    "cursor.execute(\"SELECT TOP 10 * FROM FactInternetSales\")\n",
    "columns = cursor.description\n",
    "row = [{columns[index][0]:column for index, column in enumerate(value)} for value in cursor.fetchall()]\n",
    "print(row)\n"
   ]
  },
  {
   "cell_type": "code",
   "execution_count": null,
   "metadata": {},
   "outputs": [],
   "source": []
  }
 ]
}